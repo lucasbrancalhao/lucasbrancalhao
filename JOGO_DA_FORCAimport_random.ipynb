{
  "cells": [
    {
      "cell_type": "markdown",
      "metadata": {
        "id": "view-in-github",
        "colab_type": "text"
      },
      "source": [
        "<a href=\"https://colab.research.google.com/github/lucasbrancalhao/lucasbrancalhao/blob/main/JOGO_DA_FORCAimport_random.ipynb\" target=\"_parent\"><img src=\"https://colab.research.google.com/assets/colab-badge.svg\" alt=\"Open In Colab\"/></a>"
      ]
    },
    {
      "cell_type": "code",
      "execution_count": null,
      "metadata": {
        "id": "9qMHJRGYD5ED"
      },
      "outputs": [],
      "source": [
        "palavra = \"massa\"\n",
        "k=\"\"\n",
        "jogo = 0\n",
        "##jogo = 0 (em aberto) /// jogo = 1 (ganhou) // jogo = 2 (perdeu) \n",
        "letras_corretas = []\n",
        "letras_erradas = []\n",
        "tab = [\"*-----\",\"**----\",\"***---\",\"****--\",\"*****-\",\"******\"]"
      ]
    },
    {
      "cell_type": "code",
      "execution_count": null,
      "metadata": {
        "id": "c87E9PBTEcQ7"
      },
      "outputs": [],
      "source": [
        "while jogo =0:\n",
        "  letra = input(\"digitar a letra: \")\n"
      ]
    },
    {
      "cell_type": "code",
      "execution_count": null,
      "metadata": {
        "colab": {
          "base_uri": "https://localhost:8080/"
        },
        "id": "7nPe3bK4EDNs",
        "outputId": "24d03980-f858-46bd-9f90-4ee35bb226b0"
      },
      "outputs": [
        {
          "output_type": "stream",
          "name": "stdout",
          "text": [
            "digite uma letra: q\n",
            "_____\n",
            "**----\n",
            "digite uma letra: w\n",
            "_____\n",
            "***---\n",
            "digite uma letra: m\n",
            "m____\n",
            "***---\n",
            "digite uma letra: a\n",
            "ma__a\n",
            "***---\n",
            "digite uma letra: s\n",
            "massa\n",
            "***---\n",
            "ganhou o jogo\n",
            "perdeu\n"
          ]
        }
      ],
      "source": [
        "while len(letras_erradas)<6:\n",
        "  letra = input(\"digite uma letra: \")\n",
        "  if letra in palavra and letra not in letras_corretas and letra != \"\":\n",
        "    letras_corretas.append(letra)\n",
        "  elif letra not in palavra and letra not in letras_erradas:\n",
        "    letras_erradas.append(letra)\n",
        "\n",
        "  for ltr in palavra:\n",
        "    if ltr in letras_corretas:\n",
        "      k += ltr\n",
        "    else:\n",
        "      k += \"_\"\n",
        "  print(k)\n",
        "  print(tab[len(letras_erradas)])\n",
        "  if \"_\" not in k:\n",
        "    print(\"ganhou o jogo\")\n",
        "    letras_erradas = [1,2,3,4,5,6]\n",
        "  k=\"\"\n",
        "print(\"perdeu\")    \n",
        "\n",
        "\n",
        "\n",
        "\n"
      ]
    },
    {
      "cell_type": "code",
      "execution_count": null,
      "metadata": {
        "id": "lLm85uXvFZIS",
        "colab": {
          "base_uri": "https://localhost:8080/",
          "height": 36
        },
        "outputId": "cd1ba5df-ed41-4bad-fc1c-96b06aa36adf"
      },
      "outputs": [
        {
          "output_type": "execute_result",
          "data": {
            "text/plain": [
              "'_a_a_fa_a_'"
            ],
            "application/vnd.google.colaboratory.intrinsic+json": {
              "type": "string"
            }
          },
          "metadata": {},
          "execution_count": 4
        }
      ],
      "source": [
        "k"
      ]
    },
    {
      "cell_type": "code",
      "execution_count": null,
      "metadata": {
        "id": "mIFPOadaF3XT"
      },
      "outputs": [],
      "source": []
    },
    {
      "cell_type": "code",
      "execution_count": null,
      "metadata": {
        "id": "tpd6UhxRIDQi"
      },
      "outputs": [],
      "source": []
    }
  ],
  "metadata": {
    "colab": {
      "provenance": [],
      "authorship_tag": "ABX9TyMHW1mSDGMAeGx40PqhQsYv",
      "include_colab_link": true
    },
    "kernelspec": {
      "display_name": "Python 3",
      "name": "python3"
    },
    "language_info": {
      "name": "python"
    }
  },
  "nbformat": 4,
  "nbformat_minor": 0
}